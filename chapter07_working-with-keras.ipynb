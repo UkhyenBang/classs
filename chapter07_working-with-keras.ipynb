{
  "cells": [
    {
      "cell_type": "markdown",
      "metadata": {
        "id": "O4_PEXnWXH3k"
      },
      "source": [
        "This is a companion notebook for the book [Deep Learning with Python, Second Edition](https://www.manning.com/books/deep-learning-with-python-second-edition?a_aid=keras&a_bid=76564dff). For readability, it only contains runnable code blocks and section titles, and omits everything else in the book: text paragraphs, figures, and pseudocode.\n",
        "\n",
        "**If you want to be able to follow what's going on, I recommend reading the notebook side by side with your copy of the book.**\n",
        "\n",
        "This notebook was generated for TensorFlow 2.6."
      ]
    },
    {
      "cell_type": "markdown",
      "metadata": {
        "id": "n7iTbenOXH3l"
      },
      "source": [
        "# Working with Keras: A deep dive"
      ]
    },
    {
      "cell_type": "markdown",
      "metadata": {
        "id": "Fx-D49xsXH3l"
      },
      "source": [
        "## A spectrum of workflows"
      ]
    },
    {
      "cell_type": "markdown",
      "metadata": {
        "id": "R8HGFle4XH3l"
      },
      "source": [
        "## Different ways to build Keras models"
      ]
    },
    {
      "cell_type": "markdown",
      "metadata": {
        "id": "hfMenktTXH3l"
      },
      "source": [
        "### The Sequential model"
      ]
    },
    {
      "cell_type": "markdown",
      "metadata": {
        "id": "NK8ltVx_XH3l"
      },
      "source": [
        "**The `Sequential` class**"
      ]
    },
    {
      "cell_type": "code",
      "execution_count": null,
      "metadata": {
        "id": "XQgEVDEJXH3m"
      },
      "outputs": [],
      "source": [
        "from tensorflow import keras\n",
        "from tensorflow.keras import layers\n",
        "\n",
        "model = keras.Sequential([\n",
        "    layers.Dense(64, activation=\"relu\"),\n",
        "    layers.Dense(10, activation=\"softmax\")\n",
        "])"
      ]
    },
    {
      "cell_type": "markdown",
      "metadata": {
        "id": "6o0oRIeWXH3m"
      },
      "source": [
        "**Incrementally building a Sequential model**"
      ]
    },
    {
      "cell_type": "code",
      "execution_count": null,
      "metadata": {
        "id": "olDTQZ57XH3m"
      },
      "outputs": [],
      "source": [
        "model = keras.Sequential()\n",
        "model.add(layers.Dense(64, activation=\"relu\"))\n",
        "model.add(layers.Dense(10, activation=\"softmax\"))"
      ]
    },
    {
      "cell_type": "markdown",
      "metadata": {
        "id": "8VNgKLXLXH3m"
      },
      "source": [
        "**Calling a model for the first time to build it**"
      ]
    },
    {
      "cell_type": "code",
      "execution_count": 6,
      "metadata": {
        "id": "yEm7-g31XH3m",
        "outputId": "3a3ff3e3-b70b-4581-d37b-ee2f4016dfd8",
        "colab": {
          "base_uri": "https://localhost:8080/"
        }
      },
      "outputs": [
        {
          "output_type": "execute_result",
          "data": {
            "text/plain": [
              "[<Variable path=sequential_1/dense_2/kernel, shape=(3, 64), dtype=float32, value=[[-0.00379953 -0.06338656 -0.15559383 -0.00299802  0.13980958  0.16121987\n",
              "    0.01567182 -0.01249835  0.0568592   0.08166021 -0.03335685  0.11426014\n",
              "    0.2546754  -0.11473401  0.00371698  0.27513087 -0.17671409 -0.18845966\n",
              "   -0.07031132  0.07856899  0.23459738 -0.27207237  0.12904388 -0.24037048\n",
              "   -0.16496375 -0.08164735 -0.09182392  0.12361941  0.01117843 -0.11610824\n",
              "   -0.07066877  0.18604541  0.1718632   0.1998333  -0.15942155  0.17536634\n",
              "   -0.2170797   0.22461873 -0.00961348  0.11910135 -0.0789836   0.13014072\n",
              "   -0.05893049 -0.00540793  0.23386747  0.18857333 -0.09137993  0.08599848\n",
              "   -0.18234456 -0.1567182   0.05300373  0.19787645 -0.07311085 -0.15468894\n",
              "   -0.06566168 -0.10554533 -0.03657126  0.09136131 -0.2390649  -0.04686093\n",
              "    0.18135226  0.22958338  0.10775766 -0.19273552]\n",
              "  [-0.11427361 -0.06163234  0.08446771 -0.14732687 -0.06797619  0.01335874\n",
              "   -0.01666063 -0.08482403 -0.29777512  0.28096235  0.08804837 -0.2585663\n",
              "    0.11926329 -0.09828201  0.07835588 -0.18142161 -0.04738867  0.00618625\n",
              "    0.20313013 -0.05925012  0.06914157 -0.12235928 -0.2225255   0.26868665\n",
              "    0.0934276  -0.16737486 -0.24662909  0.20883769 -0.16856758  0.03786322\n",
              "   -0.18524475  0.19431865  0.04448384 -0.19170561 -0.08921233  0.0580377\n",
              "   -0.01454353 -0.18358907 -0.19765335  0.04614952  0.05287379  0.19787261\n",
              "   -0.18953024  0.12079397 -0.28085873 -0.16889834  0.08130333 -0.03274283\n",
              "   -0.12717137 -0.04766914  0.21204442  0.15613958 -0.17264116 -0.10326213\n",
              "   -0.27301723  0.13185704 -0.01889172  0.19922301  0.08761722  0.04395694\n",
              "    0.1455369   0.16907379  0.00846016  0.1714142 ]\n",
              "  [-0.10168093  0.29491717 -0.2713556   0.21857429  0.2805822   0.11336872\n",
              "    0.17405021 -0.27483714  0.21552044 -0.04940802 -0.12013595 -0.2664371\n",
              "    0.27251023 -0.20220882  0.26865095  0.28536016  0.17484808 -0.04510999\n",
              "   -0.1922273   0.17616645  0.05516383  0.117313    0.1412814   0.09861493\n",
              "    0.13910002 -0.10148174 -0.14043657 -0.24080999  0.14527422 -0.1636354\n",
              "   -0.19072744  0.25315946 -0.13257894  0.21516591 -0.28510526 -0.16827498\n",
              "   -0.16887023 -0.03596216 -0.24796699 -0.18263245  0.19405937 -0.07655643\n",
              "    0.11946613 -0.10303918  0.02760419 -0.09729898  0.25749266  0.23729485\n",
              "    0.00567418  0.13661155  0.00388017 -0.06031998  0.21233404  0.18395907\n",
              "   -0.04441443  0.0699324   0.12594548 -0.12096243  0.2404257   0.05025235\n",
              "    0.18522534 -0.24469407 -0.01142851 -0.19858265]]>,\n",
              " <Variable path=sequential_1/dense_2/bias, shape=(64,), dtype=float32, value=[0. 0. 0. 0. 0. 0. 0. 0. 0. 0. 0. 0. 0. 0. 0. 0. 0. 0. 0. 0. 0. 0. 0. 0.\n",
              "  0. 0. 0. 0. 0. 0. 0. 0. 0. 0. 0. 0. 0. 0. 0. 0. 0. 0. 0. 0. 0. 0. 0. 0.\n",
              "  0. 0. 0. 0. 0. 0. 0. 0. 0. 0. 0. 0. 0. 0. 0. 0.]>,\n",
              " <Variable path=sequential_1/dense_3/kernel, shape=(64, 10), dtype=float32, value=[[ 3.48830223e-02 -1.84834912e-01  1.67759329e-01  2.47434288e-01\n",
              "   -1.94594651e-01 -4.40055579e-02  7.88004696e-02  1.53029501e-01\n",
              "    9.62223113e-02 -1.05915844e-01]\n",
              "  [ 2.70803839e-01  3.96000445e-02 -2.09044099e-01 -1.34542346e-01\n",
              "   -6.18688762e-02  3.68249416e-02  5.04681468e-03 -1.31694615e-01\n",
              "   -5.28656244e-02 -2.76169062e-01]\n",
              "  [ 1.25615001e-01  3.76535058e-02 -2.68863529e-01 -1.75830185e-01\n",
              "   -3.35775316e-02  2.61644423e-02 -1.25977129e-01 -2.69575149e-01\n",
              "   -2.01955050e-01 -1.77620143e-01]\n",
              "  [-2.28949100e-01  2.48889714e-01 -1.23904943e-01  1.82011724e-03\n",
              "    1.41691267e-02 -2.75211751e-01  1.63643003e-01 -7.10475445e-02\n",
              "   -1.47012219e-01  2.52166420e-01]\n",
              "  [ 4.28109765e-02  1.82408571e-01 -1.07690319e-01 -2.00202689e-01\n",
              "    2.64699131e-01 -2.14959741e-01 -8.99310857e-02 -1.45890832e-01\n",
              "    1.70668632e-01  1.91898972e-01]\n",
              "  [-1.02858663e-01  3.85907292e-02 -2.12447301e-01  1.73070014e-01\n",
              "    7.57986903e-02 -1.56303927e-01  1.30625546e-01  1.72462404e-01\n",
              "   -2.39202857e-01 -2.58601397e-01]\n",
              "  [ 1.17982298e-01  8.34465027e-06  2.70843893e-01  1.09745860e-01\n",
              "   -1.27626359e-01 -1.14198714e-01 -2.24830464e-01 -1.10345528e-01\n",
              "    2.37641662e-01  2.07152277e-01]\n",
              "  [ 2.68548727e-03  5.51301241e-03  6.92647696e-02  2.66537160e-01\n",
              "   -7.04273731e-02 -1.44643366e-01 -4.48427647e-02 -2.51564234e-01\n",
              "    1.66804135e-01 -2.18090102e-01]\n",
              "  [-2.57602006e-01  2.18589932e-01 -1.32552683e-02 -1.10058978e-01\n",
              "   -2.52919167e-01  2.63228446e-01  1.72822833e-01  2.45195359e-01\n",
              "    1.93045408e-01  6.44471645e-02]\n",
              "  [ 7.24383295e-02  2.36232430e-01 -8.50305855e-02  4.74594235e-02\n",
              "    2.28791267e-01  5.72680235e-02 -1.49617195e-02 -2.80889452e-01\n",
              "    1.58271015e-01  2.51481086e-01]\n",
              "  [-1.48272440e-01  2.84246236e-01 -4.13053334e-02 -1.69056207e-01\n",
              "   -2.80949324e-01 -1.53973699e-03  6.21466041e-02  2.39280850e-01\n",
              "   -8.21538568e-02 -1.66312188e-01]\n",
              "  [-2.49934196e-03  3.51029932e-02 -1.08140767e-01  2.76471049e-01\n",
              "    2.42452919e-02 -2.17054725e-01 -1.12486690e-01 -1.04091868e-01\n",
              "   -1.28992483e-01  1.11038089e-02]\n",
              "  [-1.91996604e-01  4.62642312e-02 -2.58235097e-01  2.48162061e-01\n",
              "    2.31127471e-01  2.79347092e-01 -2.59409428e-01  1.09861761e-01\n",
              "    1.53154552e-01  1.59749359e-01]\n",
              "  [ 1.51893020e-01  1.48297638e-01 -8.80135596e-02  1.95081621e-01\n",
              "   -5.02070189e-02  7.18753040e-02  7.56770372e-04 -1.08922437e-01\n",
              "   -1.08847499e-01  1.99789464e-01]\n",
              "  [-6.17999583e-02  2.01824844e-01 -1.56619817e-01 -6.82549179e-02\n",
              "    2.70785123e-01  2.57906109e-01  2.01296598e-01  2.58165926e-01\n",
              "   -7.94332027e-02 -1.79275885e-01]\n",
              "  [ 2.00830400e-01 -1.68974727e-01  1.78772092e-01  2.12841183e-01\n",
              "    1.64600521e-01 -2.30722830e-01 -3.21182609e-02 -2.42131248e-01\n",
              "   -2.14051992e-01 -1.28972873e-01]\n",
              "  [ 2.40202516e-01  7.28027523e-02  1.15293086e-01  7.78031051e-02\n",
              "   -8.10133219e-02 -4.21009958e-02 -1.95449233e-01 -1.00357428e-01\n",
              "    2.74703473e-01 -2.41378501e-01]\n",
              "  [ 1.64179474e-01 -1.99191824e-01 -1.04318619e-01  9.92721319e-03\n",
              "   -2.03116089e-01  6.13904595e-02 -1.36263549e-01  2.15634376e-01\n",
              "   -5.10151088e-02 -1.55763790e-01]\n",
              "  [-2.55179197e-01 -3.20851803e-04 -3.01846266e-02  6.43037260e-02\n",
              "    4.59097028e-02 -1.04405284e-02  3.75244021e-02 -1.51445031e-01\n",
              "   -2.44524211e-01 -1.76819727e-01]\n",
              "  [ 2.09298134e-01  1.34446025e-02 -5.21859229e-02  2.15661138e-01\n",
              "    2.65263706e-01  4.21905518e-02  5.18583655e-02 -2.40504488e-01\n",
              "    1.24630153e-01 -2.10283875e-01]\n",
              "  [ 1.03661925e-01 -2.32528687e-01  6.85947835e-02 -1.47639990e-01\n",
              "    2.46905088e-02  2.04487979e-01  4.07521725e-02  2.47444242e-01\n",
              "   -1.54174864e-02 -2.16154575e-01]\n",
              "  [-1.35438144e-01 -1.79031417e-01 -1.09253943e-01  2.51899749e-01\n",
              "   -6.54894561e-02  8.04568231e-02  1.18766218e-01  1.50762618e-01\n",
              "    2.33617276e-01 -2.05702782e-01]\n",
              "  [ 2.59397328e-02  2.17417806e-01  1.70245349e-01 -2.71824092e-01\n",
              "   -1.03631914e-02  4.48282361e-02  7.69332051e-03  1.41603440e-01\n",
              "   -2.21618637e-01 -7.58305937e-02]\n",
              "  [-2.03717709e-01  2.14956015e-01  6.52572215e-02  2.16995388e-01\n",
              "   -2.56505132e-01 -2.35584229e-01  1.36291921e-01 -1.53494060e-01\n",
              "   -1.64397240e-01 -1.01620629e-01]\n",
              "  [-2.60347664e-01  1.23834550e-01 -2.01090336e-01  7.52904713e-02\n",
              "   -1.67983830e-01  3.44631076e-03 -2.80764103e-02 -1.89540297e-01\n",
              "    7.04897046e-02  2.49254704e-03]\n",
              "  [ 2.04303801e-01  6.84854090e-02  1.50297433e-01 -1.32637113e-01\n",
              "    6.35329783e-02  2.43788511e-01  2.36108392e-01 -1.62749916e-01\n",
              "   -2.72262096e-03 -2.42618904e-01]\n",
              "  [-2.49690160e-01  1.30632907e-01  2.02504277e-01 -7.64682144e-02\n",
              "   -2.73266405e-01 -1.75740421e-02 -2.26244330e-02  1.24393284e-01\n",
              "   -2.43710071e-01 -2.13622525e-01]\n",
              "  [ 1.86001062e-02 -1.11401349e-01 -1.77130193e-01 -2.35960007e-01\n",
              "   -1.75297588e-01 -1.54021561e-01  6.57953620e-02  1.54602349e-01\n",
              "   -1.42996788e-01 -2.39777133e-01]\n",
              "  [ 8.29674304e-02  2.71529049e-01  2.86966562e-02  1.96536124e-01\n",
              "    2.61233747e-02  8.62407088e-02 -8.81268680e-02 -1.75425962e-01\n",
              "    2.55337626e-01  8.72254968e-02]\n",
              "  [ 2.28817612e-01  1.03354603e-01 -2.05952615e-01 -1.08981296e-01\n",
              "    2.50257343e-01 -2.43503422e-01 -9.80823934e-02 -4.59192842e-02\n",
              "   -3.06657553e-02 -8.00327957e-02]\n",
              "  [ 1.55039728e-02 -9.37891603e-02  3.13475132e-02 -2.54172325e-01\n",
              "   -5.73298037e-02 -1.73376799e-01  2.33584434e-01  1.89373791e-02\n",
              "   -2.75518626e-01  1.43734246e-01]\n",
              "  [-2.81611651e-01 -6.54799640e-02  1.58655047e-01  3.59151363e-02\n",
              "   -1.22324154e-01 -2.50087112e-01 -1.52133971e-01  1.00026131e-01\n",
              "   -2.17931300e-01  2.16199666e-01]\n",
              "  [-1.45763606e-01  1.00785196e-01 -1.03046775e-01 -1.60118818e-01\n",
              "    2.49840170e-01  2.48940378e-01  5.68023026e-02  1.99587405e-01\n",
              "   -4.51716930e-02 -9.75399613e-02]\n",
              "  [-2.50889361e-02  1.65035337e-01 -1.64867938e-02  5.11673093e-02\n",
              "    1.13508970e-01  2.10430920e-01  1.01042151e-01  2.57637590e-01\n",
              "   -2.09525228e-01 -1.04347736e-01]\n",
              "  [-2.76715636e-01 -8.46649259e-02 -2.21081704e-01 -2.68310010e-01\n",
              "    2.23916024e-01 -1.91634268e-01  2.58181393e-02  2.10388631e-01\n",
              "    5.81574440e-02  2.52692074e-01]\n",
              "  [ 2.02563047e-01  6.31762147e-02  1.63452178e-01  1.31174982e-01\n",
              "   -1.42861009e-01  2.00427681e-01  5.27912378e-03  1.83628172e-01\n",
              "   -1.32928431e-01  2.64012724e-01]\n",
              "  [ 1.50764912e-01 -7.18050450e-02 -2.12289527e-01  2.19237536e-01\n",
              "   -3.91021371e-02 -1.14156291e-01 -2.43140221e-01  2.50935644e-01\n",
              "    3.68212759e-02  1.19938731e-01]\n",
              "  [ 2.32460171e-01  2.61629671e-01 -1.66282058e-03 -2.32257396e-01\n",
              "    1.96096897e-02 -1.08335614e-01  1.44674867e-01  2.68002778e-01\n",
              "    4.48828340e-02 -2.03211665e-01]\n",
              "  [-5.97700775e-02 -2.61365712e-01 -2.53809929e-01  2.30251998e-01\n",
              "   -1.56495646e-01  2.28673488e-01  1.03006929e-01  1.93236649e-01\n",
              "    2.29841739e-01  1.89281851e-01]\n",
              "  [-1.09283075e-01  1.24926209e-01 -1.49084330e-02  2.58643180e-01\n",
              "    6.44821227e-02  1.29714906e-01 -1.77937448e-01 -2.78509468e-01\n",
              "   -1.67277247e-01 -4.68750894e-02]\n",
              "  [-2.06978023e-01 -6.60348833e-02 -1.48059741e-01  1.35260701e-01\n",
              "   -1.41027391e-01  1.83250397e-01  1.10629439e-01  2.15263039e-01\n",
              "    1.89381033e-01 -2.15237945e-01]\n",
              "  [ 3.17067206e-02 -1.43144980e-01 -3.13827395e-02  3.33288312e-03\n",
              "   -1.19502962e-01 -5.15373051e-02  3.55175138e-02 -1.87460184e-02\n",
              "    1.54648244e-01  2.22258359e-01]\n",
              "  [-2.02362657e-01 -2.06935108e-01 -6.10592961e-02  1.31179929e-01\n",
              "    2.42032379e-01 -1.23374596e-01 -2.06617266e-01  2.22404450e-01\n",
              "   -1.75487474e-01 -1.16325811e-01]\n",
              "  [-4.52200323e-02 -2.03718394e-01  1.46657646e-01 -8.01035315e-02\n",
              "    9.86955762e-02 -1.12374470e-01 -1.99310765e-01  2.84659594e-01\n",
              "    2.64770687e-02 -2.12900877e-01]\n",
              "  [-2.00399771e-01  8.84601474e-02  2.48933047e-01 -3.01942229e-03\n",
              "   -1.63937211e-02 -1.60716236e-01 -5.70192933e-03  2.68924832e-02\n",
              "   -1.27957657e-01 -2.16352940e-02]\n",
              "  [-8.12996030e-02 -2.08892822e-01  8.82826149e-02 -4.12781090e-02\n",
              "    9.82034504e-02  1.49813265e-01 -1.84693784e-01  6.43572807e-02\n",
              "   -2.39647731e-01 -1.64574921e-01]\n",
              "  [-1.47128239e-01 -2.27786765e-01 -1.16419032e-01 -2.02718049e-01\n",
              "    1.14186555e-01 -2.96437740e-02  2.15056747e-01 -6.42508268e-02\n",
              "   -1.37336329e-01 -1.40217125e-01]\n",
              "  [-2.14101970e-01 -3.41604352e-02  1.79606378e-01  1.60837024e-01\n",
              "   -1.98441446e-01  8.74341130e-02 -2.61140049e-01 -1.52836084e-01\n",
              "    7.00839758e-02 -2.36633122e-01]\n",
              "  [ 7.45379329e-02  2.71069854e-01 -8.81058276e-02 -2.92000473e-02\n",
              "   -2.15865910e-01  2.62718588e-01 -1.62766963e-01 -3.83199155e-02\n",
              "   -1.55436695e-02 -1.01457432e-01]\n",
              "  [-7.83184618e-02  2.29678243e-01 -2.51469046e-01  2.19029158e-01\n",
              "    1.82061851e-01  1.65480137e-01 -2.09745243e-01  2.81958967e-01\n",
              "   -8.00301433e-02  9.03981626e-02]\n",
              "  [-2.70082891e-01 -2.21514627e-01 -1.52193919e-01  2.61956125e-01\n",
              "   -2.26126909e-02  2.40631849e-01  1.84053928e-01  6.13021255e-02\n",
              "    2.06763625e-01 -2.29238033e-01]\n",
              "  [ 1.06786937e-01  1.43361688e-01  1.93558872e-01  1.23389333e-01\n",
              "    1.02059275e-01  9.39508080e-02 -6.17645979e-02 -4.77863699e-02\n",
              "   -1.33284092e-01  3.34526002e-02]\n",
              "  [ 1.97293371e-01  1.99686319e-01 -2.55805463e-01  6.03673756e-02\n",
              "    1.71875447e-01 -2.15989068e-01  2.12161958e-01  2.11751699e-01\n",
              "   -1.49995059e-01 -7.72734433e-02]\n",
              "  [ 2.71872729e-01 -1.21563599e-01 -1.69681996e-01  6.96157515e-02\n",
              "    1.32658780e-01  7.08097219e-03 -1.77779406e-01  2.17089444e-01\n",
              "    2.47890264e-01  1.04796350e-01]\n",
              "  [-1.43687829e-01 -1.31483406e-01  1.84204280e-01 -1.86398193e-01\n",
              "   -4.56267446e-02  1.08951718e-01 -1.87972337e-01  2.80925721e-01\n",
              "   -2.35986739e-01 -2.89689302e-02]\n",
              "  [-1.58368841e-01  2.17463285e-01  2.77355582e-01  2.42970318e-01\n",
              "   -1.95375368e-01 -4.76461798e-02 -4.15670872e-03  1.45377100e-01\n",
              "   -2.40996554e-01  1.39914691e-01]\n",
              "  [ 2.50310093e-01 -1.29700363e-01  1.39818788e-02 -2.67359972e-01\n",
              "   -2.74493426e-01  2.67246276e-01 -2.59492308e-01  1.50800049e-02\n",
              "    2.61315435e-01  2.45596796e-01]\n",
              "  [-1.80802971e-01  2.74983257e-01  1.95379317e-01 -1.46557704e-01\n",
              "    2.76092559e-01 -1.93309367e-01 -2.02789932e-01  2.72122324e-02\n",
              "    1.49369866e-01 -2.24708542e-01]\n",
              "  [ 6.38796091e-02 -7.04120249e-02  2.12841868e-01 -8.82720202e-02\n",
              "    2.25048691e-01  2.77320951e-01  2.52189785e-01 -1.27411693e-01\n",
              "   -1.69395104e-01  2.41485447e-01]\n",
              "  [ 2.15876788e-01 -1.54816270e-01  1.55933112e-01  2.70879120e-01\n",
              "   -2.90131569e-03 -1.90853477e-01 -2.19887331e-01 -7.78463632e-02\n",
              "   -1.31281704e-01 -1.59826696e-01]\n",
              "  [-1.48480728e-01  3.44084799e-02 -6.89615756e-02 -1.82690293e-01\n",
              "    1.27103209e-01  2.69983023e-01  3.61065269e-02  2.52813011e-01\n",
              "    2.52509028e-01 -5.80738038e-02]\n",
              "  [ 1.13892317e-01  7.71217644e-02  1.01306230e-01 -2.17365056e-01\n",
              "    8.30510855e-02 -2.31723577e-01  2.51664251e-01  5.96933067e-02\n",
              "    1.51528418e-02 -2.11657003e-01]\n",
              "  [ 1.27738446e-01  2.02726394e-01  1.74610347e-01 -2.72373527e-01\n",
              "    1.89062297e-01 -1.99465483e-01  4.70902324e-02 -2.33128369e-02\n",
              "    5.50081432e-02  2.05255479e-01]\n",
              "  [ 6.62046075e-02 -2.24399775e-01  3.76453102e-02 -1.90766782e-01\n",
              "   -2.03002095e-01  1.77380443e-02  3.00995111e-02  1.45682007e-01\n",
              "   -1.87640488e-01 -2.30148137e-02]]>,\n",
              " <Variable path=sequential_1/dense_3/bias, shape=(10,), dtype=float32, value=[0. 0. 0. 0. 0. 0. 0. 0. 0. 0.]>]"
            ]
          },
          "metadata": {},
          "execution_count": 6
        }
      ],
      "source": [
        "model.build(input_shape=(None, 3))\n",
        "model.weights"
      ]
    },
    {
      "cell_type": "markdown",
      "metadata": {
        "id": "zzI7XO0MXH3m"
      },
      "source": [
        "**The summary method**"
      ]
    },
    {
      "cell_type": "code",
      "execution_count": null,
      "metadata": {
        "id": "RPXHjNwDXH3m"
      },
      "outputs": [],
      "source": [
        "model.summary()"
      ]
    },
    {
      "cell_type": "markdown",
      "metadata": {
        "id": "9ZDowNOtXH3m"
      },
      "source": [
        "**Naming models and layers with the `name` argument**"
      ]
    },
    {
      "cell_type": "code",
      "execution_count": null,
      "metadata": {
        "id": "LEitxp1SXH3m"
      },
      "outputs": [],
      "source": [
        "model = keras.Sequential(name=\"my_example_model\")\n",
        "model.add(layers.Dense(64, activation=\"relu\", name=\"my_first_layer\"))\n",
        "model.add(layers.Dense(10, activation=\"softmax\", name=\"my_last_layer\"))\n",
        "model.build((None, 3))\n",
        "model.summary()"
      ]
    },
    {
      "cell_type": "markdown",
      "metadata": {
        "id": "uC5R5ocKXH3m"
      },
      "source": [
        "**Specifying the input shape of your model in advance**"
      ]
    },
    {
      "cell_type": "code",
      "execution_count": null,
      "metadata": {
        "id": "jyhR3xL-XH3m"
      },
      "outputs": [],
      "source": [
        "model = keras.Sequential()\n",
        "model.add(keras.Input(shape=(3,)))\n",
        "model.add(layers.Dense(64, activation=\"relu\"))"
      ]
    },
    {
      "cell_type": "code",
      "execution_count": null,
      "metadata": {
        "id": "yfux9_pwXH3m"
      },
      "outputs": [],
      "source": [
        "model.summary()"
      ]
    },
    {
      "cell_type": "code",
      "execution_count": null,
      "metadata": {
        "id": "Yb1qEbBIXH3m"
      },
      "outputs": [],
      "source": [
        "model.add(layers.Dense(10, activation=\"softmax\"))\n",
        "model.summary()"
      ]
    },
    {
      "cell_type": "markdown",
      "metadata": {
        "id": "DZ2Bw30LXH3m"
      },
      "source": [
        "### The Functional API"
      ]
    },
    {
      "cell_type": "markdown",
      "metadata": {
        "id": "QK9HxN2vXH3m"
      },
      "source": [
        "#### A simple example"
      ]
    },
    {
      "cell_type": "markdown",
      "metadata": {
        "id": "RY6W_CqsXH3m"
      },
      "source": [
        "**A simple Functional model with two `Dense` layers**"
      ]
    },
    {
      "cell_type": "code",
      "execution_count": null,
      "metadata": {
        "id": "0Bl9EL91XH3m"
      },
      "outputs": [],
      "source": [
        "inputs = keras.Input(shape=(3,), name=\"my_input\")\n",
        "features = layers.Dense(64, activation=\"relu\")(inputs)\n",
        "outputs = layers.Dense(10, activation=\"softmax\")(features)\n",
        "model = keras.Model(inputs=inputs, outputs=outputs)"
      ]
    },
    {
      "cell_type": "code",
      "execution_count": null,
      "metadata": {
        "id": "pPyAlODmXH3m"
      },
      "outputs": [],
      "source": [
        "inputs = keras.Input(shape=(3,), name=\"my_input\")"
      ]
    },
    {
      "cell_type": "code",
      "execution_count": null,
      "metadata": {
        "id": "S7Bouu9ZXH3m"
      },
      "outputs": [],
      "source": [
        "inputs.shape"
      ]
    },
    {
      "cell_type": "code",
      "execution_count": null,
      "metadata": {
        "id": "D2LJbTpaXH3n"
      },
      "outputs": [],
      "source": [
        "inputs.dtype"
      ]
    },
    {
      "cell_type": "code",
      "execution_count": null,
      "metadata": {
        "id": "xRLeq3JSXH3n"
      },
      "outputs": [],
      "source": [
        "features = layers.Dense(64, activation=\"relu\")(inputs)"
      ]
    },
    {
      "cell_type": "code",
      "execution_count": null,
      "metadata": {
        "id": "nvvz3v6JXH3n"
      },
      "outputs": [],
      "source": [
        "features.shape"
      ]
    },
    {
      "cell_type": "code",
      "execution_count": null,
      "metadata": {
        "id": "TCYLhc2oXH3n"
      },
      "outputs": [],
      "source": [
        "outputs = layers.Dense(10, activation=\"softmax\")(features)\n",
        "model = keras.Model(inputs=inputs, outputs=outputs)"
      ]
    },
    {
      "cell_type": "code",
      "execution_count": null,
      "metadata": {
        "id": "Oa9cUmxgXH3n"
      },
      "outputs": [],
      "source": [
        "model.summary()"
      ]
    },
    {
      "cell_type": "markdown",
      "metadata": {
        "id": "34olnv_wXH3n"
      },
      "source": [
        "#### Multi-input, multi-output models"
      ]
    },
    {
      "cell_type": "markdown",
      "metadata": {
        "id": "3Dhgn3g1XH3n"
      },
      "source": [
        "**A multi-input, multi-output Functional model**"
      ]
    },
    {
      "cell_type": "code",
      "execution_count": null,
      "metadata": {
        "id": "7e4PMA_7XH3n"
      },
      "outputs": [],
      "source": [
        "vocabulary_size = 10000\n",
        "num_tags = 100\n",
        "num_departments = 4\n",
        "\n",
        "title = keras.Input(shape=(vocabulary_size,), name=\"title\")\n",
        "text_body = keras.Input(shape=(vocabulary_size,), name=\"text_body\")\n",
        "tags = keras.Input(shape=(num_tags,), name=\"tags\")\n",
        "\n",
        "features = layers.Concatenate()([title, text_body, tags])\n",
        "features = layers.Dense(64, activation=\"relu\")(features)\n",
        "\n",
        "priority = layers.Dense(1, activation=\"sigmoid\", name=\"priority\")(features)\n",
        "department = layers.Dense(\n",
        "    num_departments, activation=\"softmax\", name=\"department\")(features)\n",
        "\n",
        "model = keras.Model(inputs=[title, text_body, tags], outputs=[priority, department])"
      ]
    },
    {
      "cell_type": "markdown",
      "metadata": {
        "id": "J_J_a3FQXH3n"
      },
      "source": [
        "#### Training a multi-input, multi-output model"
      ]
    },
    {
      "cell_type": "markdown",
      "metadata": {
        "id": "gMXdgDwNXH3n"
      },
      "source": [
        "**Training a model by providing lists of input & target arrays**"
      ]
    },
    {
      "cell_type": "code",
      "execution_count": null,
      "metadata": {
        "id": "DAXi9NjaXH3n"
      },
      "outputs": [],
      "source": [
        "import numpy as np\n",
        "\n",
        "num_samples = 1280\n",
        "\n",
        "title_data = np.random.randint(0, 2, size=(num_samples, vocabulary_size))\n",
        "text_body_data = np.random.randint(0, 2, size=(num_samples, vocabulary_size))\n",
        "tags_data = np.random.randint(0, 2, size=(num_samples, num_tags))\n",
        "\n",
        "priority_data = np.random.random(size=(num_samples, 1))\n",
        "department_data = np.random.randint(0, 2, size=(num_samples, num_departments))\n",
        "\n",
        "model.compile(optimizer=\"rmsprop\",\n",
        "              loss=[\"mean_squared_error\", \"categorical_crossentropy\"],\n",
        "              metrics=[[\"mean_absolute_error\"], [\"accuracy\"]])\n",
        "model.fit([title_data, text_body_data, tags_data],\n",
        "          [priority_data, department_data],\n",
        "          epochs=1)\n",
        "model.evaluate([title_data, text_body_data, tags_data],\n",
        "               [priority_data, department_data])\n",
        "priority_preds, department_preds = model.predict([title_data, text_body_data, tags_data])"
      ]
    },
    {
      "cell_type": "markdown",
      "metadata": {
        "id": "_1eui4OtXH3n"
      },
      "source": [
        "**Training a model by providing dicts of input & target arrays**"
      ]
    },
    {
      "cell_type": "code",
      "execution_count": null,
      "metadata": {
        "id": "0bXVsmRvXH3n"
      },
      "outputs": [],
      "source": [
        "model.compile(optimizer=\"rmsprop\",\n",
        "              loss={\"priority\": \"mean_squared_error\", \"department\": \"categorical_crossentropy\"},\n",
        "              metrics={\"priority\": [\"mean_absolute_error\"], \"department\": [\"accuracy\"]})\n",
        "model.fit({\"title\": title_data, \"text_body\": text_body_data, \"tags\": tags_data},\n",
        "          {\"priority\": priority_data, \"department\": department_data},\n",
        "          epochs=1)\n",
        "model.evaluate({\"title\": title_data, \"text_body\": text_body_data, \"tags\": tags_data},\n",
        "               {\"priority\": priority_data, \"department\": department_data})\n",
        "priority_preds, department_preds = model.predict(\n",
        "    {\"title\": title_data, \"text_body\": text_body_data, \"tags\": tags_data})"
      ]
    },
    {
      "cell_type": "markdown",
      "metadata": {
        "id": "LbOSFeaQXH3n"
      },
      "source": [
        "#### The power of the Functional API: Access to layer connectivity"
      ]
    },
    {
      "cell_type": "code",
      "execution_count": null,
      "metadata": {
        "id": "gPGZ1lmaXH3n"
      },
      "outputs": [],
      "source": [
        "keras.utils.plot_model(model, \"ticket_classifier.png\")"
      ]
    },
    {
      "cell_type": "code",
      "execution_count": null,
      "metadata": {
        "id": "Bb070owVXH3n"
      },
      "outputs": [],
      "source": [
        "keras.utils.plot_model(model, \"ticket_classifier_with_shape_info.png\", show_shapes=True)"
      ]
    },
    {
      "cell_type": "markdown",
      "metadata": {
        "id": "i1NuC9UIXH3n"
      },
      "source": [
        "**Retrieving the inputs or outputs of a layer in a Functional model**"
      ]
    },
    {
      "cell_type": "code",
      "execution_count": null,
      "metadata": {
        "id": "6fzUqFtkXH3n"
      },
      "outputs": [],
      "source": [
        "model.layers"
      ]
    },
    {
      "cell_type": "code",
      "execution_count": null,
      "metadata": {
        "id": "ahHHaH38XH3n"
      },
      "outputs": [],
      "source": [
        "model.layers[3].input"
      ]
    },
    {
      "cell_type": "code",
      "execution_count": null,
      "metadata": {
        "id": "O9ObXPoVXH3n"
      },
      "outputs": [],
      "source": [
        "model.layers[3].output"
      ]
    },
    {
      "cell_type": "markdown",
      "metadata": {
        "id": "yyeNt7cnXH3n"
      },
      "source": [
        "**Creating a new model by reusing intermediate layer outputs**"
      ]
    },
    {
      "cell_type": "code",
      "execution_count": null,
      "metadata": {
        "id": "OBnn1MWGXH3n"
      },
      "outputs": [],
      "source": [
        "features = model.layers[4].output\n",
        "difficulty = layers.Dense(3, activation=\"softmax\", name=\"difficulty\")(features)\n",
        "\n",
        "new_model = keras.Model(\n",
        "    inputs=[title, text_body, tags],\n",
        "    outputs=[priority, department, difficulty])"
      ]
    },
    {
      "cell_type": "code",
      "execution_count": null,
      "metadata": {
        "id": "LcegBG2GXH3o"
      },
      "outputs": [],
      "source": [
        "keras.utils.plot_model(new_model, \"updated_ticket_classifier.png\", show_shapes=True)"
      ]
    },
    {
      "cell_type": "markdown",
      "metadata": {
        "id": "m6HJGZjzXH3o"
      },
      "source": [
        "### Subclassing the Model class"
      ]
    },
    {
      "cell_type": "markdown",
      "metadata": {
        "id": "23kGjG_AXH3o"
      },
      "source": [
        "#### Rewriting our previous example as a subclassed model"
      ]
    },
    {
      "cell_type": "markdown",
      "metadata": {
        "id": "BlHeamaNXH3o"
      },
      "source": [
        "**A simple subclassed model**"
      ]
    },
    {
      "cell_type": "code",
      "execution_count": null,
      "metadata": {
        "id": "L6MpBMrzXH3o"
      },
      "outputs": [],
      "source": [
        "class CustomerTicketModel(keras.Model):\n",
        "\n",
        "    def __init__(self, num_departments):\n",
        "        super().__init__()\n",
        "        self.concat_layer = layers.Concatenate()\n",
        "        self.mixing_layer = layers.Dense(64, activation=\"relu\")\n",
        "        self.priority_scorer = layers.Dense(1, activation=\"sigmoid\")\n",
        "        self.department_classifier = layers.Dense(\n",
        "            num_departments, activation=\"softmax\")\n",
        "\n",
        "    def call(self, inputs):\n",
        "        title = inputs[\"title\"]\n",
        "        text_body = inputs[\"text_body\"]\n",
        "        tags = inputs[\"tags\"]\n",
        "\n",
        "        features = self.concat_layer([title, text_body, tags])\n",
        "        features = self.mixing_layer(features)\n",
        "        priority = self.priority_scorer(features)\n",
        "        department = self.department_classifier(features)\n",
        "        return priority, department"
      ]
    },
    {
      "cell_type": "code",
      "execution_count": null,
      "metadata": {
        "id": "5YzFkqRFXH3o"
      },
      "outputs": [],
      "source": [
        "model = CustomerTicketModel(num_departments=4)\n",
        "\n",
        "priority, department = model(\n",
        "    {\"title\": title_data, \"text_body\": text_body_data, \"tags\": tags_data})"
      ]
    },
    {
      "cell_type": "code",
      "execution_count": null,
      "metadata": {
        "id": "PX-PYIiKXH3o"
      },
      "outputs": [],
      "source": [
        "model.compile(optimizer=\"rmsprop\",\n",
        "              loss=[\"mean_squared_error\", \"categorical_crossentropy\"],\n",
        "              metrics=[[\"mean_absolute_error\"], [\"accuracy\"]])\n",
        "model.fit({\"title\": title_data,\n",
        "           \"text_body\": text_body_data,\n",
        "           \"tags\": tags_data},\n",
        "          [priority_data, department_data],\n",
        "          epochs=1)\n",
        "model.evaluate({\"title\": title_data,\n",
        "                \"text_body\": text_body_data,\n",
        "                \"tags\": tags_data},\n",
        "               [priority_data, department_data])\n",
        "priority_preds, department_preds = model.predict({\"title\": title_data,\n",
        "                                                  \"text_body\": text_body_data,\n",
        "                                                  \"tags\": tags_data})"
      ]
    },
    {
      "cell_type": "markdown",
      "metadata": {
        "id": "B4RdU4EGXH3o"
      },
      "source": [
        "#### Beware: What subclassed models don't support"
      ]
    },
    {
      "cell_type": "markdown",
      "metadata": {
        "id": "E7-b8BmgXH3o"
      },
      "source": [
        "### Mixing and matching different components"
      ]
    },
    {
      "cell_type": "markdown",
      "metadata": {
        "id": "rVNUNA9PXH3o"
      },
      "source": [
        "**Creating a Functional model that includes a subclassed model**"
      ]
    },
    {
      "cell_type": "code",
      "execution_count": null,
      "metadata": {
        "id": "iOU3FFDLXH3o"
      },
      "outputs": [],
      "source": [
        "class Classifier(keras.Model):\n",
        "\n",
        "    def __init__(self, num_classes=2):\n",
        "        super().__init__()\n",
        "        if num_classes == 2:\n",
        "            num_units = 1\n",
        "            activation = \"sigmoid\"\n",
        "        else:\n",
        "            num_units = num_classes\n",
        "            activation = \"softmax\"\n",
        "        self.dense = layers.Dense(num_units, activation=activation)\n",
        "\n",
        "    def call(self, inputs):\n",
        "        return self.dense(inputs)\n",
        "\n",
        "inputs = keras.Input(shape=(3,))\n",
        "features = layers.Dense(64, activation=\"relu\")(inputs)\n",
        "outputs = Classifier(num_classes=10)(features)\n",
        "model = keras.Model(inputs=inputs, outputs=outputs)"
      ]
    },
    {
      "cell_type": "markdown",
      "metadata": {
        "id": "krxOcZzqXH3o"
      },
      "source": [
        "**Creating a subclassed model that includes a Functional model**"
      ]
    },
    {
      "cell_type": "code",
      "execution_count": null,
      "metadata": {
        "id": "kY8wmX6_XH3o"
      },
      "outputs": [],
      "source": [
        "inputs = keras.Input(shape=(64,))\n",
        "outputs = layers.Dense(1, activation=\"sigmoid\")(inputs)\n",
        "binary_classifier = keras.Model(inputs=inputs, outputs=outputs)\n",
        "\n",
        "class MyModel(keras.Model):\n",
        "\n",
        "    def __init__(self, num_classes=2):\n",
        "        super().__init__()\n",
        "        self.dense = layers.Dense(64, activation=\"relu\")\n",
        "        self.classifier = binary_classifier\n",
        "\n",
        "    def call(self, inputs):\n",
        "        features = self.dense(inputs)\n",
        "        return self.classifier(features)\n",
        "\n",
        "model = MyModel()"
      ]
    },
    {
      "cell_type": "markdown",
      "metadata": {
        "id": "NNTFa-LpXH3o"
      },
      "source": [
        "### Remember: Use the right tool for the job"
      ]
    },
    {
      "cell_type": "markdown",
      "metadata": {
        "id": "YuFFWSxhXH3o"
      },
      "source": [
        "## Using built-in training and evaluation loops"
      ]
    },
    {
      "cell_type": "markdown",
      "metadata": {
        "id": "qiXdNqCtXH3o"
      },
      "source": [
        "**The standard workflow: `compile()`, `fit()`, `evaluate()`, `predict()`**"
      ]
    },
    {
      "cell_type": "code",
      "execution_count": null,
      "metadata": {
        "id": "6Lfus7FpXH3o"
      },
      "outputs": [],
      "source": [
        "from tensorflow.keras.datasets import mnist\n",
        "\n",
        "def get_mnist_model():\n",
        "    inputs = keras.Input(shape=(28 * 28,))\n",
        "    features = layers.Dense(512, activation=\"relu\")(inputs)\n",
        "    features = layers.Dropout(0.5)(features)\n",
        "    outputs = layers.Dense(10, activation=\"softmax\")(features)\n",
        "    model = keras.Model(inputs, outputs)\n",
        "    return model\n",
        "\n",
        "(images, labels), (test_images, test_labels) = mnist.load_data()\n",
        "images = images.reshape((60000, 28 * 28)).astype(\"float32\") / 255\n",
        "test_images = test_images.reshape((10000, 28 * 28)).astype(\"float32\") / 255\n",
        "train_images, val_images = images[10000:], images[:10000]\n",
        "train_labels, val_labels = labels[10000:], labels[:10000]\n",
        "\n",
        "model = get_mnist_model()\n",
        "model.compile(optimizer=\"rmsprop\",\n",
        "              loss=\"sparse_categorical_crossentropy\",\n",
        "              metrics=[\"accuracy\"])\n",
        "model.fit(train_images, train_labels,\n",
        "          epochs=3,\n",
        "          validation_data=(val_images, val_labels))\n",
        "test_metrics = model.evaluate(test_images, test_labels)\n",
        "predictions = model.predict(test_images)"
      ]
    },
    {
      "cell_type": "markdown",
      "metadata": {
        "id": "3nvIZDstXH3o"
      },
      "source": [
        "### Writing your own metrics"
      ]
    },
    {
      "cell_type": "markdown",
      "metadata": {
        "id": "PmBHvdl7XH3o"
      },
      "source": [
        "**Implementing a custom metric by subclassing the `Metric` class**"
      ]
    },
    {
      "cell_type": "code",
      "execution_count": null,
      "metadata": {
        "id": "FyPdlSbAXH3o"
      },
      "outputs": [],
      "source": [
        "import tensorflow as tf\n",
        "\n",
        "class RootMeanSquaredError(keras.metrics.Metric):\n",
        "\n",
        "    def __init__(self, name=\"rmse\", **kwargs):\n",
        "        super().__init__(name=name, **kwargs)\n",
        "        self.mse_sum = self.add_weight(name=\"mse_sum\", initializer=\"zeros\")\n",
        "        self.total_samples = self.add_weight(\n",
        "            name=\"total_samples\", initializer=\"zeros\", dtype=\"int32\")\n",
        "\n",
        "    def update_state(self, y_true, y_pred, sample_weight=None):\n",
        "        y_true = tf.one_hot(y_true, depth=tf.shape(y_pred)[1])\n",
        "        mse = tf.reduce_sum(tf.square(y_true - y_pred))\n",
        "        self.mse_sum.assign_add(mse)\n",
        "        num_samples = tf.shape(y_pred)[0]\n",
        "        self.total_samples.assign_add(num_samples)\n",
        "\n",
        "    def result(self):\n",
        "        return tf.sqrt(self.mse_sum / tf.cast(self.total_samples, tf.float32))\n",
        "\n",
        "    def reset_state(self):\n",
        "        self.mse_sum.assign(0.)\n",
        "        self.total_samples.assign(0)"
      ]
    },
    {
      "cell_type": "code",
      "execution_count": null,
      "metadata": {
        "id": "S0wGEUfpXH3p"
      },
      "outputs": [],
      "source": [
        "model = get_mnist_model()\n",
        "model.compile(optimizer=\"rmsprop\",\n",
        "              loss=\"sparse_categorical_crossentropy\",\n",
        "              metrics=[\"accuracy\", RootMeanSquaredError()])\n",
        "model.fit(train_images, train_labels,\n",
        "          epochs=3,\n",
        "          validation_data=(val_images, val_labels))\n",
        "test_metrics = model.evaluate(test_images, test_labels)"
      ]
    },
    {
      "cell_type": "markdown",
      "metadata": {
        "id": "kUfh_PytXH3p"
      },
      "source": [
        "### Using callbacks"
      ]
    },
    {
      "cell_type": "markdown",
      "metadata": {
        "id": "u0xp2jXEXH3p"
      },
      "source": [
        "#### The EarlyStopping and ModelCheckpoint callbacks"
      ]
    },
    {
      "cell_type": "markdown",
      "metadata": {
        "id": "1_02KA63XH3p"
      },
      "source": [
        "**Using the `callbacks` argument in the `fit()` method**"
      ]
    },
    {
      "cell_type": "code",
      "execution_count": null,
      "metadata": {
        "id": "Cz4o7sHeXH3p"
      },
      "outputs": [],
      "source": [
        "callbacks_list = [\n",
        "    keras.callbacks.EarlyStopping(\n",
        "        monitor=\"val_accuracy\",\n",
        "        patience=2,\n",
        "    ),\n",
        "    keras.callbacks.ModelCheckpoint(\n",
        "        filepath=\"checkpoint_path.keras\",\n",
        "        monitor=\"val_loss\",\n",
        "        save_best_only=True,\n",
        "    )\n",
        "]\n",
        "model = get_mnist_model()\n",
        "model.compile(optimizer=\"rmsprop\",\n",
        "              loss=\"sparse_categorical_crossentropy\",\n",
        "              metrics=[\"accuracy\"])\n",
        "model.fit(train_images, train_labels,\n",
        "          epochs=10,\n",
        "          callbacks=callbacks_list,\n",
        "          validation_data=(val_images, val_labels))"
      ]
    },
    {
      "cell_type": "code",
      "execution_count": null,
      "metadata": {
        "id": "uckOge8NXH3p"
      },
      "outputs": [],
      "source": [
        "model = keras.models.load_model(\"checkpoint_path.keras\")"
      ]
    },
    {
      "cell_type": "markdown",
      "metadata": {
        "id": "JTHs03rbXH3p"
      },
      "source": [
        "### Writing your own callbacks"
      ]
    },
    {
      "cell_type": "markdown",
      "metadata": {
        "id": "Zdq1NaIzXH3p"
      },
      "source": [
        "**Creating a custom callback by subclassing the `Callback` class**"
      ]
    },
    {
      "cell_type": "code",
      "execution_count": null,
      "metadata": {
        "id": "EQdTnBcyXH3p"
      },
      "outputs": [],
      "source": [
        "from matplotlib import pyplot as plt\n",
        "\n",
        "class LossHistory(keras.callbacks.Callback):\n",
        "    def on_train_begin(self, logs):\n",
        "        self.per_batch_losses = []\n",
        "\n",
        "    def on_batch_end(self, batch, logs):\n",
        "        self.per_batch_losses.append(logs.get(\"loss\"))\n",
        "\n",
        "    def on_epoch_end(self, epoch, logs):\n",
        "        plt.clf()\n",
        "        plt.plot(range(len(self.per_batch_losses)), self.per_batch_losses,\n",
        "                 label=\"Training loss for each batch\")\n",
        "        plt.xlabel(f\"Batch (epoch {epoch})\")\n",
        "        plt.ylabel(\"Loss\")\n",
        "        plt.legend()\n",
        "        plt.savefig(f\"plot_at_epoch_{epoch}\")\n",
        "        self.per_batch_losses = []"
      ]
    },
    {
      "cell_type": "code",
      "execution_count": null,
      "metadata": {
        "id": "YQ6eDPcJXH3p"
      },
      "outputs": [],
      "source": [
        "model = get_mnist_model()\n",
        "model.compile(optimizer=\"rmsprop\",\n",
        "              loss=\"sparse_categorical_crossentropy\",\n",
        "              metrics=[\"accuracy\"])\n",
        "model.fit(train_images, train_labels,\n",
        "          epochs=10,\n",
        "          callbacks=[LossHistory()],\n",
        "          validation_data=(val_images, val_labels))"
      ]
    },
    {
      "cell_type": "markdown",
      "metadata": {
        "id": "CtM__0IzXH3p"
      },
      "source": [
        "### Monitoring and visualization with TensorBoard"
      ]
    },
    {
      "cell_type": "code",
      "execution_count": null,
      "metadata": {
        "id": "fpJ68s8zXH3p"
      },
      "outputs": [],
      "source": [
        "model = get_mnist_model()\n",
        "model.compile(optimizer=\"rmsprop\",\n",
        "              loss=\"sparse_categorical_crossentropy\",\n",
        "              metrics=[\"accuracy\"])\n",
        "\n",
        "tensorboard = keras.callbacks.TensorBoard(\n",
        "    log_dir=\"/full_path_to_your_log_dir\",\n",
        ")\n",
        "model.fit(train_images, train_labels,\n",
        "          epochs=10,\n",
        "          validation_data=(val_images, val_labels),\n",
        "          callbacks=[tensorboard])"
      ]
    },
    {
      "cell_type": "code",
      "execution_count": null,
      "metadata": {
        "id": "NsslzrsoXH3p"
      },
      "outputs": [],
      "source": [
        "%load_ext tensorboard\n",
        "%tensorboard --logdir /full_path_to_your_log_dir"
      ]
    },
    {
      "cell_type": "markdown",
      "metadata": {
        "id": "CHA_Hj3gXH3p"
      },
      "source": [
        "## Writing your own training and evaluation loops"
      ]
    },
    {
      "cell_type": "markdown",
      "metadata": {
        "id": "uQMJK39nXH3p"
      },
      "source": [
        "### Training versus inference"
      ]
    },
    {
      "cell_type": "markdown",
      "metadata": {
        "id": "xeTR4XqKXH3p"
      },
      "source": [
        "### Low-level usage of metrics"
      ]
    },
    {
      "cell_type": "code",
      "execution_count": null,
      "metadata": {
        "id": "929raA7wXH3p"
      },
      "outputs": [],
      "source": [
        "metric = keras.metrics.SparseCategoricalAccuracy()\n",
        "targets = [0, 1, 2]\n",
        "predictions = [[1, 0, 0], [0, 1, 0], [0, 0, 1]]\n",
        "metric.update_state(targets, predictions)\n",
        "current_result = metric.result()\n",
        "print(f\"result: {current_result:.2f}\")"
      ]
    },
    {
      "cell_type": "code",
      "execution_count": null,
      "metadata": {
        "id": "5_T_Klz4XH3p"
      },
      "outputs": [],
      "source": [
        "values = [0, 1, 2, 3, 4]\n",
        "mean_tracker = keras.metrics.Mean()\n",
        "for value in values:\n",
        "    mean_tracker.update_state(value)\n",
        "print(f\"Mean of values: {mean_tracker.result():.2f}\")"
      ]
    },
    {
      "cell_type": "markdown",
      "metadata": {
        "id": "Pm5qlTAoXH3p"
      },
      "source": [
        "### A complete training and evaluation loop"
      ]
    },
    {
      "cell_type": "markdown",
      "metadata": {
        "id": "VPxfCvj0XH3p"
      },
      "source": [
        "**Writing a step-by-step training loop: the training step function**"
      ]
    },
    {
      "cell_type": "code",
      "execution_count": null,
      "metadata": {
        "id": "euu7mlOrXH3p"
      },
      "outputs": [],
      "source": [
        "model = get_mnist_model()\n",
        "\n",
        "loss_fn = keras.losses.SparseCategoricalCrossentropy()\n",
        "optimizer = keras.optimizers.RMSprop()\n",
        "metrics = [keras.metrics.SparseCategoricalAccuracy()]\n",
        "loss_tracking_metric = keras.metrics.Mean()\n",
        "\n",
        "def train_step(inputs, targets):\n",
        "    with tf.GradientTape() as tape:\n",
        "        predictions = model(inputs, training=True)\n",
        "        loss = loss_fn(targets, predictions)\n",
        "    gradients = tape.gradient(loss, model.trainable_weights)\n",
        "    optimizer.apply_gradients(zip(gradients, model.trainable_weights))\n",
        "\n",
        "    logs = {}\n",
        "    for metric in metrics:\n",
        "        metric.update_state(targets, predictions)\n",
        "        logs[metric.name] = metric.result()\n",
        "\n",
        "    loss_tracking_metric.update_state(loss)\n",
        "    logs[\"loss\"] = loss_tracking_metric.result()\n",
        "    return logs"
      ]
    },
    {
      "cell_type": "markdown",
      "metadata": {
        "id": "GPqzRLL1XH3p"
      },
      "source": [
        "**Writing a step-by-step training loop: resetting the metrics**"
      ]
    },
    {
      "cell_type": "code",
      "execution_count": null,
      "metadata": {
        "id": "LmV7wsbdXH3p"
      },
      "outputs": [],
      "source": [
        "def reset_metrics():\n",
        "    for metric in metrics:\n",
        "        metric.reset_state()\n",
        "    loss_tracking_metric.reset_state()"
      ]
    },
    {
      "cell_type": "markdown",
      "metadata": {
        "id": "UGQuVv1MXH3p"
      },
      "source": [
        "**Writing a step-by-step training loop: the loop itself**"
      ]
    },
    {
      "cell_type": "code",
      "execution_count": null,
      "metadata": {
        "id": "0Iizj0PoXH3p"
      },
      "outputs": [],
      "source": [
        "training_dataset = tf.data.Dataset.from_tensor_slices((train_images, train_labels))\n",
        "training_dataset = training_dataset.batch(32)\n",
        "epochs = 3\n",
        "for epoch in range(epochs):\n",
        "    reset_metrics()\n",
        "    for inputs_batch, targets_batch in training_dataset:\n",
        "        logs = train_step(inputs_batch, targets_batch)\n",
        "    print(f\"Results at the end of epoch {epoch}\")\n",
        "    for key, value in logs.items():\n",
        "        print(f\"...{key}: {value:.4f}\")"
      ]
    },
    {
      "cell_type": "markdown",
      "metadata": {
        "id": "cowHdMeXXH3p"
      },
      "source": [
        "**Writing a step-by-step evaluation loop**"
      ]
    },
    {
      "cell_type": "code",
      "execution_count": null,
      "metadata": {
        "id": "swO1VDfoXH3p"
      },
      "outputs": [],
      "source": [
        "def test_step(inputs, targets):\n",
        "    predictions = model(inputs, training=False)\n",
        "    loss = loss_fn(targets, predictions)\n",
        "\n",
        "    logs = {}\n",
        "    for metric in metrics:\n",
        "        metric.update_state(targets, predictions)\n",
        "        logs[\"val_\" + metric.name] = metric.result()\n",
        "\n",
        "    loss_tracking_metric.update_state(loss)\n",
        "    logs[\"val_loss\"] = loss_tracking_metric.result()\n",
        "    return logs\n",
        "\n",
        "val_dataset = tf.data.Dataset.from_tensor_slices((val_images, val_labels))\n",
        "val_dataset = val_dataset.batch(32)\n",
        "reset_metrics()\n",
        "for inputs_batch, targets_batch in val_dataset:\n",
        "    logs = test_step(inputs_batch, targets_batch)\n",
        "print(\"Evaluation results:\")\n",
        "for key, value in logs.items():\n",
        "    print(f\"...{key}: {value:.4f}\")"
      ]
    },
    {
      "cell_type": "markdown",
      "metadata": {
        "id": "xy1WCgDAXH3q"
      },
      "source": [
        "### Make it fast with tf.function"
      ]
    },
    {
      "cell_type": "markdown",
      "metadata": {
        "id": "gq8P-RYpXH3q"
      },
      "source": [
        "**Adding a `tf.function` decorator to our evaluation-step function**"
      ]
    },
    {
      "cell_type": "code",
      "execution_count": null,
      "metadata": {
        "id": "tdWfPArFXH3q"
      },
      "outputs": [],
      "source": [
        "@tf.function\n",
        "def test_step(inputs, targets):\n",
        "    predictions = model(inputs, training=False)\n",
        "    loss = loss_fn(targets, predictions)\n",
        "\n",
        "    logs = {}\n",
        "    for metric in metrics:\n",
        "        metric.update_state(targets, predictions)\n",
        "        logs[\"val_\" + metric.name] = metric.result()\n",
        "\n",
        "    loss_tracking_metric.update_state(loss)\n",
        "    logs[\"val_loss\"] = loss_tracking_metric.result()\n",
        "    return logs\n",
        "\n",
        "val_dataset = tf.data.Dataset.from_tensor_slices((val_images, val_labels))\n",
        "val_dataset = val_dataset.batch(32)\n",
        "reset_metrics()\n",
        "for inputs_batch, targets_batch in val_dataset:\n",
        "    logs = test_step(inputs_batch, targets_batch)\n",
        "print(\"Evaluation results:\")\n",
        "for key, value in logs.items():\n",
        "    print(f\"...{key}: {value:.4f}\")"
      ]
    },
    {
      "cell_type": "markdown",
      "metadata": {
        "id": "AHJ9nLWWXH3q"
      },
      "source": [
        "### Leveraging fit() with a custom training loop"
      ]
    },
    {
      "cell_type": "markdown",
      "metadata": {
        "id": "wJixMk9EXH3q"
      },
      "source": [
        "**Implementing a custom training step to use with `fit()`**"
      ]
    },
    {
      "cell_type": "code",
      "execution_count": null,
      "metadata": {
        "id": "iYHfKjRgXH3q"
      },
      "outputs": [],
      "source": [
        "loss_fn = keras.losses.SparseCategoricalCrossentropy()\n",
        "loss_tracker = keras.metrics.Mean(name=\"loss\")\n",
        "\n",
        "class CustomModel(keras.Model):\n",
        "    def train_step(self, data):\n",
        "        inputs, targets = data\n",
        "        with tf.GradientTape() as tape:\n",
        "            predictions = self(inputs, training=True)\n",
        "            loss = loss_fn(targets, predictions)\n",
        "        gradients = tape.gradient(loss, self.trainable_weights)\n",
        "        self.optimizer.apply_gradients(zip(gradients, self.trainable_weights))\n",
        "\n",
        "        loss_tracker.update_state(loss)\n",
        "        return {\"loss\": loss_tracker.result()}\n",
        "\n",
        "    @property\n",
        "    def metrics(self):\n",
        "        return [loss_tracker]"
      ]
    },
    {
      "cell_type": "code",
      "execution_count": null,
      "metadata": {
        "id": "VwAZT891XH3q"
      },
      "outputs": [],
      "source": [
        "inputs = keras.Input(shape=(28 * 28,))\n",
        "features = layers.Dense(512, activation=\"relu\")(inputs)\n",
        "features = layers.Dropout(0.5)(features)\n",
        "outputs = layers.Dense(10, activation=\"softmax\")(features)\n",
        "model = CustomModel(inputs, outputs)\n",
        "\n",
        "model.compile(optimizer=keras.optimizers.RMSprop())\n",
        "model.fit(train_images, train_labels, epochs=3)"
      ]
    },
    {
      "cell_type": "code",
      "execution_count": null,
      "metadata": {
        "id": "PyBKsUKnXH3q"
      },
      "outputs": [],
      "source": [
        "class CustomModel(keras.Model):\n",
        "    def train_step(self, data):\n",
        "        inputs, targets = data\n",
        "        with tf.GradientTape() as tape:\n",
        "            predictions = self(inputs, training=True)\n",
        "            loss = self.compiled_loss(targets, predictions)\n",
        "        gradients = tape.gradient(loss, self.trainable_weights)\n",
        "        self.optimizer.apply_gradients(zip(gradients, self.trainable_weights))\n",
        "        self.compiled_metrics.update_state(targets, predictions)\n",
        "        return {m.name: m.result() for m in self.metrics}"
      ]
    },
    {
      "cell_type": "code",
      "execution_count": null,
      "metadata": {
        "id": "KNEijzL_XH3q"
      },
      "outputs": [],
      "source": [
        "inputs = keras.Input(shape=(28 * 28,))\n",
        "features = layers.Dense(512, activation=\"relu\")(inputs)\n",
        "features = layers.Dropout(0.5)(features)\n",
        "outputs = layers.Dense(10, activation=\"softmax\")(features)\n",
        "model = CustomModel(inputs, outputs)\n",
        "\n",
        "model.compile(optimizer=keras.optimizers.RMSprop(),\n",
        "              loss=keras.losses.SparseCategoricalCrossentropy(),\n",
        "              metrics=[keras.metrics.SparseCategoricalAccuracy()])\n",
        "model.fit(train_images, train_labels, epochs=3)"
      ]
    },
    {
      "cell_type": "markdown",
      "metadata": {
        "id": "1shTavdMXH3q"
      },
      "source": [
        "## Summary"
      ]
    }
  ],
  "metadata": {
    "colab": {
      "name": "chapter07_working-with-keras.i",
      "provenance": [],
      "toc_visible": true
    },
    "kernelspec": {
      "display_name": "Python 3",
      "language": "python",
      "name": "python3"
    },
    "language_info": {
      "codemirror_mode": {
        "name": "ipython",
        "version": 3
      },
      "file_extension": ".py",
      "mimetype": "text/x-python",
      "name": "python",
      "nbconvert_exporter": "python",
      "pygments_lexer": "ipython3",
      "version": "3.7.0"
    }
  },
  "nbformat": 4,
  "nbformat_minor": 0
}